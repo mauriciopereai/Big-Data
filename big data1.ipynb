{
 "cells": [
  {
   "cell_type": "code",
   "execution_count": 2,
   "metadata": {},
   "outputs": [],
   "source": [
    "import urllib\n",
    "import pandas as pd\n",
    "from bs4 import BeautifulSoup\n",
    "import numpy as np\n",
    "import matplotlib.pyplot as plt\n",
    "import string as st\n",
    "import seaborn as sns\n",
    "import scipy as sci\n",
    "import json"
   ]
  },
  {
   "cell_type": "code",
   "execution_count": 7,
   "metadata": {},
   "outputs": [],
   "source": [
    "def load_data(url):\n",
    "    r = urllib.request.urlopen(url) \n",
    "    soup = BeautifulSoup(r)\n",
    "    \n",
    "    data2 = soup.find_all('tr')    \n",
    "    labels = []\n",
    "    for h in data2[0].find_all('th'):\n",
    "        labels.append(h.get_text().strip().lower())\n",
    "    \n",
    "    final = []\n",
    "    for data in data2[1:]:\n",
    "        data_list = []\n",
    "        for d in data.find_all('td'):\n",
    "            d_str = d.get_text().replace(',','')\n",
    "            \n",
    "            if d_str.isnumeric():\n",
    "                data_list.append(int(d_str))\n",
    "            else:\n",
    "                data_list.append(d_str)                      \n",
    "        final.append(data_list)\n",
    "    \n",
    "    df = pd.DataFrame(final, columns = labels)    \n",
    "    df['submit date'] = pd.to_datetime(df['submit date'])\n",
    "    df['start date'] = pd.to_datetime(df['start date'])\n",
    "    df['state'] = df['location'].str.split().str[-1] \n",
    "    df['year'] = df['submit date'].dt.year\n",
    "    df['month'] = df['submit date'].dt.month\n",
    "    return df"
   ]
  },
  {
   "cell_type": "code",
   "execution_count": 8,
   "metadata": {},
   "outputs": [],
   "source": [
    "bs = load_data('https://h1bdata.info/index.php?em=&job=&city=NEW+YORK&year=All+Years')\n",
    "bsbs = load_data('https://h1bdata.info/index.php?em=&job=&city=LOS+ANGELES&year=All+Years')\n",
    "bsbs1 = load_data('https://h1bdata.info/index.php?em=&job=&city=SAN+FRANCISCO&year=All+Years')\n",
    "bs4 = load_data('https://h1bdata.info/index.php?em=&job=&city=HOUSTON&year=All+Years')\n",
    "bs5=load_data('https://h1bdata.info/index.php?em=&job=&city=CHICAGO&year=All+Years')"
   ]
  },
  {
   "cell_type": "code",
   "execution_count": 9,
   "metadata": {},
   "outputs": [],
   "source": [
    "bs4['location']='Houston'\n",
    "bs5['location']='Chicago'\n",
    "bs['location']='New York'\n",
    "bsbs['location']='Los Angeles'\n",
    "bsbs1['location']='San Francisco'\n"
   ]
  },
  {
   "cell_type": "code",
   "execution_count": 10,
   "metadata": {},
   "outputs": [],
   "source": [
    "base = pd.concat([bs5, bs4,bsbs1,bsbs,bs ])\n",
    "base = base.replace(r'^\\s*$', np.nan, regex=True)\n",
    "base=base.dropna()\n",
    "base=base[ base['year'] >2015 ]"
   ]
  },
  {
   "cell_type": "code",
   "execution_count": 15,
   "metadata": {},
   "outputs": [],
   "source": [
    "por_año=base.groupby(['year']).count()\n",
    "por_ciudad=base.groupby(['location']).count()\n",
    "por_añociudad = basee.groupby(['year', 'location']).count()"
   ]
  },
  {
   "cell_type": "code",
   "execution_count": null,
   "metadata": {},
   "outputs": [],
   "source": [
    "base.to_excel(r'a.xlsx')"
   ]
  },
  {
   "cell_type": "code",
   "execution_count": 25,
   "metadata": {},
   "outputs": [],
   "source": [
    "por_añociudad = base.groupby(['year', 'location']).count()"
   ]
  },
  {
   "cell_type": "code",
   "execution_count": null,
   "metadata": {},
   "outputs": [],
   "source": [
    "año_empleador= base.groupby(['year', 'employer']).count()\n",
    "empleador_ciuda= base.groupby(['location', 'employer']).count()"
   ]
  },
  {
   "cell_type": "code",
   "execution_count": 29,
   "metadata": {},
   "outputs": [],
   "source": [
    "base6=base[ base['year']==2016 ]\n",
    "base7=base[ base['year']==2017 ]\n",
    "base8=base[ base['year']==2018 ]\n",
    "base9=base[ base['year']==2019 ]\n",
    "base0=base[ base['year']==2020 ]"
   ]
  },
  {
   "cell_type": "code",
   "execution_count": 30,
   "metadata": {},
   "outputs": [],
   "source": [
    "año_empleador6= base6.groupby(['year', 'employer']).count()\n",
    "año_empleador7= base7.groupby(['year', 'employer']).count()\n",
    "año_empleador8= base8.groupby(['year', 'employer']).count()\n",
    "año_empleador9= base9.groupby(['year', 'employer']).count()\n",
    "año_empleador0= base0.groupby(['year', 'employer']).count()\n"
   ]
  },
  {
   "cell_type": "code",
   "execution_count": 34,
   "metadata": {},
   "outputs": [],
   "source": [
    "año_empleador6=año_empleador6.sort_values(by=['job title'])\n",
    "año_empleador7=año_empleador7.sort_values(by=['job title'])\n",
    "año_empleador8=año_empleador8.sort_values(by=['job title'])\n",
    "año_empleador9=año_empleador9.sort_values(by=['job title'])\n",
    "año_empleador0=año_empleador0.sort_values(by=['job title'])\n"
   ]
  },
  {
   "cell_type": "code",
   "execution_count": 41,
   "metadata": {},
   "outputs": [
    {
     "data": {
      "text/html": [
       "<div>\n",
       "<style scoped>\n",
       "    .dataframe tbody tr th:only-of-type {\n",
       "        vertical-align: middle;\n",
       "    }\n",
       "\n",
       "    .dataframe tbody tr th {\n",
       "        vertical-align: top;\n",
       "    }\n",
       "\n",
       "    .dataframe thead th {\n",
       "        text-align: right;\n",
       "    }\n",
       "</style>\n",
       "<table border=\"1\" class=\"dataframe\">\n",
       "  <thead>\n",
       "    <tr style=\"text-align: right;\">\n",
       "      <th></th>\n",
       "      <th></th>\n",
       "      <th>job title</th>\n",
       "      <th>base salary</th>\n",
       "      <th>location</th>\n",
       "      <th>submit date</th>\n",
       "      <th>start date</th>\n",
       "      <th>case status</th>\n",
       "      <th>state</th>\n",
       "      <th>month</th>\n",
       "    </tr>\n",
       "    <tr>\n",
       "      <th>year</th>\n",
       "      <th>employer</th>\n",
       "      <th></th>\n",
       "      <th></th>\n",
       "      <th></th>\n",
       "      <th></th>\n",
       "      <th></th>\n",
       "      <th></th>\n",
       "      <th></th>\n",
       "      <th></th>\n",
       "    </tr>\n",
       "  </thead>\n",
       "  <tbody>\n",
       "    <tr>\n",
       "      <th rowspan=\"5\" valign=\"top\">2016</th>\n",
       "      <th>INFOSYS LIMITED</th>\n",
       "      <td>783</td>\n",
       "      <td>783</td>\n",
       "      <td>783</td>\n",
       "      <td>783</td>\n",
       "      <td>783</td>\n",
       "      <td>783</td>\n",
       "      <td>783</td>\n",
       "      <td>783</td>\n",
       "    </tr>\n",
       "    <tr>\n",
       "      <th>DELOITTE CONSULTING LLP</th>\n",
       "      <td>806</td>\n",
       "      <td>806</td>\n",
       "      <td>806</td>\n",
       "      <td>806</td>\n",
       "      <td>806</td>\n",
       "      <td>806</td>\n",
       "      <td>806</td>\n",
       "      <td>806</td>\n",
       "    </tr>\n",
       "    <tr>\n",
       "      <th>TATA CONSULTANCY SERVICES LIMITED</th>\n",
       "      <td>865</td>\n",
       "      <td>865</td>\n",
       "      <td>865</td>\n",
       "      <td>865</td>\n",
       "      <td>865</td>\n",
       "      <td>865</td>\n",
       "      <td>865</td>\n",
       "      <td>865</td>\n",
       "    </tr>\n",
       "    <tr>\n",
       "      <th>CAPGEMINI AMERICA INC</th>\n",
       "      <td>1071</td>\n",
       "      <td>1071</td>\n",
       "      <td>1071</td>\n",
       "      <td>1071</td>\n",
       "      <td>1071</td>\n",
       "      <td>1071</td>\n",
       "      <td>1071</td>\n",
       "      <td>1071</td>\n",
       "    </tr>\n",
       "    <tr>\n",
       "      <th>ERNST &amp; YOUNG US LLP</th>\n",
       "      <td>2143</td>\n",
       "      <td>2143</td>\n",
       "      <td>2143</td>\n",
       "      <td>2143</td>\n",
       "      <td>2143</td>\n",
       "      <td>2143</td>\n",
       "      <td>2143</td>\n",
       "      <td>2143</td>\n",
       "    </tr>\n",
       "  </tbody>\n",
       "</table>\n",
       "</div>"
      ],
      "text/plain": [
       "                                        job title  base salary  location  \\\n",
       "year employer                                                              \n",
       "2016 INFOSYS LIMITED                          783          783       783   \n",
       "     DELOITTE CONSULTING LLP                  806          806       806   \n",
       "     TATA CONSULTANCY SERVICES LIMITED        865          865       865   \n",
       "     CAPGEMINI AMERICA INC                   1071         1071      1071   \n",
       "     ERNST & YOUNG US LLP                    2143         2143      2143   \n",
       "\n",
       "                                        submit date  start date  case status  \\\n",
       "year employer                                                                  \n",
       "2016 INFOSYS LIMITED                            783         783          783   \n",
       "     DELOITTE CONSULTING LLP                    806         806          806   \n",
       "     TATA CONSULTANCY SERVICES LIMITED          865         865          865   \n",
       "     CAPGEMINI AMERICA INC                     1071        1071         1071   \n",
       "     ERNST & YOUNG US LLP                      2143        2143         2143   \n",
       "\n",
       "                                        state  month  \n",
       "year employer                                         \n",
       "2016 INFOSYS LIMITED                      783    783  \n",
       "     DELOITTE CONSULTING LLP              806    806  \n",
       "     TATA CONSULTANCY SERVICES LIMITED    865    865  \n",
       "     CAPGEMINI AMERICA INC               1071   1071  \n",
       "     ERNST & YOUNG US LLP                2143   2143  "
      ]
     },
     "execution_count": 41,
     "metadata": {},
     "output_type": "execute_result"
    }
   ],
   "source": [
    "año_empleador6.tail()"
   ]
  },
  {
   "cell_type": "code",
   "execution_count": 42,
   "metadata": {},
   "outputs": [
    {
     "data": {
      "text/html": [
       "<div>\n",
       "<style scoped>\n",
       "    .dataframe tbody tr th:only-of-type {\n",
       "        vertical-align: middle;\n",
       "    }\n",
       "\n",
       "    .dataframe tbody tr th {\n",
       "        vertical-align: top;\n",
       "    }\n",
       "\n",
       "    .dataframe thead th {\n",
       "        text-align: right;\n",
       "    }\n",
       "</style>\n",
       "<table border=\"1\" class=\"dataframe\">\n",
       "  <thead>\n",
       "    <tr style=\"text-align: right;\">\n",
       "      <th></th>\n",
       "      <th></th>\n",
       "      <th>job title</th>\n",
       "      <th>base salary</th>\n",
       "      <th>location</th>\n",
       "      <th>submit date</th>\n",
       "      <th>start date</th>\n",
       "      <th>case status</th>\n",
       "      <th>state</th>\n",
       "      <th>month</th>\n",
       "    </tr>\n",
       "    <tr>\n",
       "      <th>year</th>\n",
       "      <th>employer</th>\n",
       "      <th></th>\n",
       "      <th></th>\n",
       "      <th></th>\n",
       "      <th></th>\n",
       "      <th></th>\n",
       "      <th></th>\n",
       "      <th></th>\n",
       "      <th></th>\n",
       "    </tr>\n",
       "  </thead>\n",
       "  <tbody>\n",
       "    <tr>\n",
       "      <th rowspan=\"5\" valign=\"top\">2017</th>\n",
       "      <th>DELOITTE &amp; TOUCHE LLP</th>\n",
       "      <td>653</td>\n",
       "      <td>653</td>\n",
       "      <td>653</td>\n",
       "      <td>653</td>\n",
       "      <td>653</td>\n",
       "      <td>653</td>\n",
       "      <td>653</td>\n",
       "      <td>653</td>\n",
       "    </tr>\n",
       "    <tr>\n",
       "      <th>PRICEWATERHOUSECOOPERS ADVISORY SERVICES LLC</th>\n",
       "      <td>721</td>\n",
       "      <td>721</td>\n",
       "      <td>721</td>\n",
       "      <td>721</td>\n",
       "      <td>721</td>\n",
       "      <td>721</td>\n",
       "      <td>721</td>\n",
       "      <td>721</td>\n",
       "    </tr>\n",
       "    <tr>\n",
       "      <th>DELOITTE CONSULTING LLP</th>\n",
       "      <td>796</td>\n",
       "      <td>796</td>\n",
       "      <td>796</td>\n",
       "      <td>796</td>\n",
       "      <td>796</td>\n",
       "      <td>796</td>\n",
       "      <td>796</td>\n",
       "      <td>796</td>\n",
       "    </tr>\n",
       "    <tr>\n",
       "      <th>TATA CONSULTANCY SERVICES LIMITED</th>\n",
       "      <td>800</td>\n",
       "      <td>800</td>\n",
       "      <td>800</td>\n",
       "      <td>800</td>\n",
       "      <td>800</td>\n",
       "      <td>800</td>\n",
       "      <td>800</td>\n",
       "      <td>800</td>\n",
       "    </tr>\n",
       "    <tr>\n",
       "      <th>ERNST &amp; YOUNG US LLP</th>\n",
       "      <td>2723</td>\n",
       "      <td>2723</td>\n",
       "      <td>2723</td>\n",
       "      <td>2723</td>\n",
       "      <td>2723</td>\n",
       "      <td>2723</td>\n",
       "      <td>2723</td>\n",
       "      <td>2723</td>\n",
       "    </tr>\n",
       "  </tbody>\n",
       "</table>\n",
       "</div>"
      ],
      "text/plain": [
       "                                                   job title  base salary  \\\n",
       "year employer                                                               \n",
       "2017 DELOITTE & TOUCHE LLP                               653          653   \n",
       "     PRICEWATERHOUSECOOPERS ADVISORY SERVICES LLC        721          721   \n",
       "     DELOITTE CONSULTING LLP                             796          796   \n",
       "     TATA CONSULTANCY SERVICES LIMITED                   800          800   \n",
       "     ERNST & YOUNG US LLP                               2723         2723   \n",
       "\n",
       "                                                   location  submit date  \\\n",
       "year employer                                                              \n",
       "2017 DELOITTE & TOUCHE LLP                              653          653   \n",
       "     PRICEWATERHOUSECOOPERS ADVISORY SERVICES LLC       721          721   \n",
       "     DELOITTE CONSULTING LLP                            796          796   \n",
       "     TATA CONSULTANCY SERVICES LIMITED                  800          800   \n",
       "     ERNST & YOUNG US LLP                              2723         2723   \n",
       "\n",
       "                                                   start date  case status  \\\n",
       "year employer                                                                \n",
       "2017 DELOITTE & TOUCHE LLP                                653          653   \n",
       "     PRICEWATERHOUSECOOPERS ADVISORY SERVICES LLC         721          721   \n",
       "     DELOITTE CONSULTING LLP                              796          796   \n",
       "     TATA CONSULTANCY SERVICES LIMITED                    800          800   \n",
       "     ERNST & YOUNG US LLP                                2723         2723   \n",
       "\n",
       "                                                   state  month  \n",
       "year employer                                                    \n",
       "2017 DELOITTE & TOUCHE LLP                           653    653  \n",
       "     PRICEWATERHOUSECOOPERS ADVISORY SERVICES LLC    721    721  \n",
       "     DELOITTE CONSULTING LLP                         796    796  \n",
       "     TATA CONSULTANCY SERVICES LIMITED               800    800  \n",
       "     ERNST & YOUNG US LLP                           2723   2723  "
      ]
     },
     "execution_count": 42,
     "metadata": {},
     "output_type": "execute_result"
    }
   ],
   "source": [
    "año_empleador7.tail()"
   ]
  },
  {
   "cell_type": "code",
   "execution_count": 43,
   "metadata": {},
   "outputs": [
    {
     "data": {
      "text/html": [
       "<div>\n",
       "<style scoped>\n",
       "    .dataframe tbody tr th:only-of-type {\n",
       "        vertical-align: middle;\n",
       "    }\n",
       "\n",
       "    .dataframe tbody tr th {\n",
       "        vertical-align: top;\n",
       "    }\n",
       "\n",
       "    .dataframe thead th {\n",
       "        text-align: right;\n",
       "    }\n",
       "</style>\n",
       "<table border=\"1\" class=\"dataframe\">\n",
       "  <thead>\n",
       "    <tr style=\"text-align: right;\">\n",
       "      <th></th>\n",
       "      <th></th>\n",
       "      <th>job title</th>\n",
       "      <th>base salary</th>\n",
       "      <th>location</th>\n",
       "      <th>submit date</th>\n",
       "      <th>start date</th>\n",
       "      <th>case status</th>\n",
       "      <th>state</th>\n",
       "      <th>month</th>\n",
       "    </tr>\n",
       "    <tr>\n",
       "      <th>year</th>\n",
       "      <th>employer</th>\n",
       "      <th></th>\n",
       "      <th></th>\n",
       "      <th></th>\n",
       "      <th></th>\n",
       "      <th></th>\n",
       "      <th></th>\n",
       "      <th></th>\n",
       "      <th></th>\n",
       "    </tr>\n",
       "  </thead>\n",
       "  <tbody>\n",
       "    <tr>\n",
       "      <th rowspan=\"5\" valign=\"top\">2018</th>\n",
       "      <th>TATA CONSULTANCY SERVICES LIMITED</th>\n",
       "      <td>662</td>\n",
       "      <td>662</td>\n",
       "      <td>662</td>\n",
       "      <td>662</td>\n",
       "      <td>662</td>\n",
       "      <td>662</td>\n",
       "      <td>662</td>\n",
       "      <td>662</td>\n",
       "    </tr>\n",
       "    <tr>\n",
       "      <th>PRICEWATERHOUSECOOPERS ADVISORY SERVICES LLC</th>\n",
       "      <td>714</td>\n",
       "      <td>714</td>\n",
       "      <td>714</td>\n",
       "      <td>714</td>\n",
       "      <td>714</td>\n",
       "      <td>714</td>\n",
       "      <td>714</td>\n",
       "      <td>714</td>\n",
       "    </tr>\n",
       "    <tr>\n",
       "      <th>DELOITTE &amp; TOUCHE LLP</th>\n",
       "      <td>715</td>\n",
       "      <td>715</td>\n",
       "      <td>715</td>\n",
       "      <td>715</td>\n",
       "      <td>715</td>\n",
       "      <td>715</td>\n",
       "      <td>715</td>\n",
       "      <td>715</td>\n",
       "    </tr>\n",
       "    <tr>\n",
       "      <th>ERNST &amp; YOUNG US LLP</th>\n",
       "      <td>1153</td>\n",
       "      <td>1153</td>\n",
       "      <td>1153</td>\n",
       "      <td>1153</td>\n",
       "      <td>1153</td>\n",
       "      <td>1153</td>\n",
       "      <td>1153</td>\n",
       "      <td>1153</td>\n",
       "    </tr>\n",
       "    <tr>\n",
       "      <th>DELOITTE CONSULTING LLP</th>\n",
       "      <td>1865</td>\n",
       "      <td>1865</td>\n",
       "      <td>1865</td>\n",
       "      <td>1865</td>\n",
       "      <td>1865</td>\n",
       "      <td>1865</td>\n",
       "      <td>1865</td>\n",
       "      <td>1865</td>\n",
       "    </tr>\n",
       "  </tbody>\n",
       "</table>\n",
       "</div>"
      ],
      "text/plain": [
       "                                                   job title  base salary  \\\n",
       "year employer                                                               \n",
       "2018 TATA CONSULTANCY SERVICES LIMITED                   662          662   \n",
       "     PRICEWATERHOUSECOOPERS ADVISORY SERVICES LLC        714          714   \n",
       "     DELOITTE & TOUCHE LLP                               715          715   \n",
       "     ERNST & YOUNG US LLP                               1153         1153   \n",
       "     DELOITTE CONSULTING LLP                            1865         1865   \n",
       "\n",
       "                                                   location  submit date  \\\n",
       "year employer                                                              \n",
       "2018 TATA CONSULTANCY SERVICES LIMITED                  662          662   \n",
       "     PRICEWATERHOUSECOOPERS ADVISORY SERVICES LLC       714          714   \n",
       "     DELOITTE & TOUCHE LLP                              715          715   \n",
       "     ERNST & YOUNG US LLP                              1153         1153   \n",
       "     DELOITTE CONSULTING LLP                           1865         1865   \n",
       "\n",
       "                                                   start date  case status  \\\n",
       "year employer                                                                \n",
       "2018 TATA CONSULTANCY SERVICES LIMITED                    662          662   \n",
       "     PRICEWATERHOUSECOOPERS ADVISORY SERVICES LLC         714          714   \n",
       "     DELOITTE & TOUCHE LLP                                715          715   \n",
       "     ERNST & YOUNG US LLP                                1153         1153   \n",
       "     DELOITTE CONSULTING LLP                             1865         1865   \n",
       "\n",
       "                                                   state  month  \n",
       "year employer                                                    \n",
       "2018 TATA CONSULTANCY SERVICES LIMITED               662    662  \n",
       "     PRICEWATERHOUSECOOPERS ADVISORY SERVICES LLC    714    714  \n",
       "     DELOITTE & TOUCHE LLP                           715    715  \n",
       "     ERNST & YOUNG US LLP                           1153   1153  \n",
       "     DELOITTE CONSULTING LLP                        1865   1865  "
      ]
     },
     "execution_count": 43,
     "metadata": {},
     "output_type": "execute_result"
    }
   ],
   "source": [
    "año_empleador8.tail()"
   ]
  },
  {
   "cell_type": "code",
   "execution_count": 44,
   "metadata": {},
   "outputs": [
    {
     "data": {
      "text/html": [
       "<div>\n",
       "<style scoped>\n",
       "    .dataframe tbody tr th:only-of-type {\n",
       "        vertical-align: middle;\n",
       "    }\n",
       "\n",
       "    .dataframe tbody tr th {\n",
       "        vertical-align: top;\n",
       "    }\n",
       "\n",
       "    .dataframe thead th {\n",
       "        text-align: right;\n",
       "    }\n",
       "</style>\n",
       "<table border=\"1\" class=\"dataframe\">\n",
       "  <thead>\n",
       "    <tr style=\"text-align: right;\">\n",
       "      <th></th>\n",
       "      <th></th>\n",
       "      <th>job title</th>\n",
       "      <th>base salary</th>\n",
       "      <th>location</th>\n",
       "      <th>submit date</th>\n",
       "      <th>start date</th>\n",
       "      <th>case status</th>\n",
       "      <th>state</th>\n",
       "      <th>month</th>\n",
       "    </tr>\n",
       "    <tr>\n",
       "      <th>year</th>\n",
       "      <th>employer</th>\n",
       "      <th></th>\n",
       "      <th></th>\n",
       "      <th></th>\n",
       "      <th></th>\n",
       "      <th></th>\n",
       "      <th></th>\n",
       "      <th></th>\n",
       "      <th></th>\n",
       "    </tr>\n",
       "  </thead>\n",
       "  <tbody>\n",
       "    <tr>\n",
       "      <th rowspan=\"5\" valign=\"top\">2019</th>\n",
       "      <th>CAPGEMINI AMERICA INC</th>\n",
       "      <td>666</td>\n",
       "      <td>666</td>\n",
       "      <td>666</td>\n",
       "      <td>666</td>\n",
       "      <td>666</td>\n",
       "      <td>666</td>\n",
       "      <td>666</td>\n",
       "      <td>666</td>\n",
       "    </tr>\n",
       "    <tr>\n",
       "      <th>INFOSYS LIMITED</th>\n",
       "      <td>675</td>\n",
       "      <td>675</td>\n",
       "      <td>675</td>\n",
       "      <td>675</td>\n",
       "      <td>675</td>\n",
       "      <td>675</td>\n",
       "      <td>675</td>\n",
       "      <td>675</td>\n",
       "    </tr>\n",
       "    <tr>\n",
       "      <th>DELOITTE CONSULTING LLP</th>\n",
       "      <td>968</td>\n",
       "      <td>968</td>\n",
       "      <td>968</td>\n",
       "      <td>968</td>\n",
       "      <td>968</td>\n",
       "      <td>968</td>\n",
       "      <td>968</td>\n",
       "      <td>968</td>\n",
       "    </tr>\n",
       "    <tr>\n",
       "      <th>COGNIZANT TECHNOLOGY SOLUTIONS US CORP</th>\n",
       "      <td>1019</td>\n",
       "      <td>1019</td>\n",
       "      <td>1019</td>\n",
       "      <td>1019</td>\n",
       "      <td>1019</td>\n",
       "      <td>1019</td>\n",
       "      <td>1019</td>\n",
       "      <td>1019</td>\n",
       "    </tr>\n",
       "    <tr>\n",
       "      <th>ERNST &amp; YOUNG US LLP</th>\n",
       "      <td>1886</td>\n",
       "      <td>1886</td>\n",
       "      <td>1886</td>\n",
       "      <td>1886</td>\n",
       "      <td>1886</td>\n",
       "      <td>1886</td>\n",
       "      <td>1886</td>\n",
       "      <td>1886</td>\n",
       "    </tr>\n",
       "  </tbody>\n",
       "</table>\n",
       "</div>"
      ],
      "text/plain": [
       "                                             job title  base salary  location  \\\n",
       "year employer                                                                   \n",
       "2019 CAPGEMINI AMERICA INC                         666          666       666   \n",
       "     INFOSYS LIMITED                               675          675       675   \n",
       "     DELOITTE CONSULTING LLP                       968          968       968   \n",
       "     COGNIZANT TECHNOLOGY SOLUTIONS US CORP       1019         1019      1019   \n",
       "     ERNST & YOUNG US LLP                         1886         1886      1886   \n",
       "\n",
       "                                             submit date  start date  \\\n",
       "year employer                                                          \n",
       "2019 CAPGEMINI AMERICA INC                           666         666   \n",
       "     INFOSYS LIMITED                                 675         675   \n",
       "     DELOITTE CONSULTING LLP                         968         968   \n",
       "     COGNIZANT TECHNOLOGY SOLUTIONS US CORP         1019        1019   \n",
       "     ERNST & YOUNG US LLP                           1886        1886   \n",
       "\n",
       "                                             case status  state  month  \n",
       "year employer                                                           \n",
       "2019 CAPGEMINI AMERICA INC                           666    666    666  \n",
       "     INFOSYS LIMITED                                 675    675    675  \n",
       "     DELOITTE CONSULTING LLP                         968    968    968  \n",
       "     COGNIZANT TECHNOLOGY SOLUTIONS US CORP         1019   1019   1019  \n",
       "     ERNST & YOUNG US LLP                           1886   1886   1886  "
      ]
     },
     "execution_count": 44,
     "metadata": {},
     "output_type": "execute_result"
    }
   ],
   "source": [
    "año_empleador9.tail()"
   ]
  },
  {
   "cell_type": "code",
   "execution_count": 45,
   "metadata": {},
   "outputs": [
    {
     "data": {
      "text/html": [
       "<div>\n",
       "<style scoped>\n",
       "    .dataframe tbody tr th:only-of-type {\n",
       "        vertical-align: middle;\n",
       "    }\n",
       "\n",
       "    .dataframe tbody tr th {\n",
       "        vertical-align: top;\n",
       "    }\n",
       "\n",
       "    .dataframe thead th {\n",
       "        text-align: right;\n",
       "    }\n",
       "</style>\n",
       "<table border=\"1\" class=\"dataframe\">\n",
       "  <thead>\n",
       "    <tr style=\"text-align: right;\">\n",
       "      <th></th>\n",
       "      <th></th>\n",
       "      <th>job title</th>\n",
       "      <th>base salary</th>\n",
       "      <th>location</th>\n",
       "      <th>submit date</th>\n",
       "      <th>start date</th>\n",
       "      <th>case status</th>\n",
       "      <th>state</th>\n",
       "      <th>month</th>\n",
       "    </tr>\n",
       "    <tr>\n",
       "      <th>year</th>\n",
       "      <th>employer</th>\n",
       "      <th></th>\n",
       "      <th></th>\n",
       "      <th></th>\n",
       "      <th></th>\n",
       "      <th></th>\n",
       "      <th></th>\n",
       "      <th></th>\n",
       "      <th></th>\n",
       "    </tr>\n",
       "  </thead>\n",
       "  <tbody>\n",
       "    <tr>\n",
       "      <th rowspan=\"5\" valign=\"top\">2020</th>\n",
       "      <th>COGNIZANT TECHNOLOGY SOLUTIONS US CORP</th>\n",
       "      <td>385</td>\n",
       "      <td>385</td>\n",
       "      <td>385</td>\n",
       "      <td>385</td>\n",
       "      <td>385</td>\n",
       "      <td>385</td>\n",
       "      <td>385</td>\n",
       "      <td>385</td>\n",
       "    </tr>\n",
       "    <tr>\n",
       "      <th>DELOITTE &amp; TOUCHE LLP</th>\n",
       "      <td>419</td>\n",
       "      <td>419</td>\n",
       "      <td>419</td>\n",
       "      <td>419</td>\n",
       "      <td>419</td>\n",
       "      <td>419</td>\n",
       "      <td>419</td>\n",
       "      <td>419</td>\n",
       "    </tr>\n",
       "    <tr>\n",
       "      <th>TATA CONSULTANCY SERVICES LIMITED</th>\n",
       "      <td>431</td>\n",
       "      <td>431</td>\n",
       "      <td>431</td>\n",
       "      <td>431</td>\n",
       "      <td>431</td>\n",
       "      <td>431</td>\n",
       "      <td>431</td>\n",
       "      <td>431</td>\n",
       "    </tr>\n",
       "    <tr>\n",
       "      <th>DELOITTE CONSULTING LLP</th>\n",
       "      <td>621</td>\n",
       "      <td>621</td>\n",
       "      <td>621</td>\n",
       "      <td>621</td>\n",
       "      <td>621</td>\n",
       "      <td>621</td>\n",
       "      <td>621</td>\n",
       "      <td>621</td>\n",
       "    </tr>\n",
       "    <tr>\n",
       "      <th>ERNST &amp; YOUNG US LLP</th>\n",
       "      <td>1191</td>\n",
       "      <td>1191</td>\n",
       "      <td>1191</td>\n",
       "      <td>1191</td>\n",
       "      <td>1191</td>\n",
       "      <td>1191</td>\n",
       "      <td>1191</td>\n",
       "      <td>1191</td>\n",
       "    </tr>\n",
       "  </tbody>\n",
       "</table>\n",
       "</div>"
      ],
      "text/plain": [
       "                                             job title  base salary  location  \\\n",
       "year employer                                                                   \n",
       "2020 COGNIZANT TECHNOLOGY SOLUTIONS US CORP        385          385       385   \n",
       "     DELOITTE & TOUCHE LLP                         419          419       419   \n",
       "     TATA CONSULTANCY SERVICES LIMITED             431          431       431   \n",
       "     DELOITTE CONSULTING LLP                       621          621       621   \n",
       "     ERNST & YOUNG US LLP                         1191         1191      1191   \n",
       "\n",
       "                                             submit date  start date  \\\n",
       "year employer                                                          \n",
       "2020 COGNIZANT TECHNOLOGY SOLUTIONS US CORP          385         385   \n",
       "     DELOITTE & TOUCHE LLP                           419         419   \n",
       "     TATA CONSULTANCY SERVICES LIMITED               431         431   \n",
       "     DELOITTE CONSULTING LLP                         621         621   \n",
       "     ERNST & YOUNG US LLP                           1191        1191   \n",
       "\n",
       "                                             case status  state  month  \n",
       "year employer                                                           \n",
       "2020 COGNIZANT TECHNOLOGY SOLUTIONS US CORP          385    385    385  \n",
       "     DELOITTE & TOUCHE LLP                           419    419    419  \n",
       "     TATA CONSULTANCY SERVICES LIMITED               431    431    431  \n",
       "     DELOITTE CONSULTING LLP                         621    621    621  \n",
       "     ERNST & YOUNG US LLP                           1191   1191   1191  "
      ]
     },
     "execution_count": 45,
     "metadata": {},
     "output_type": "execute_result"
    }
   ],
   "source": [
    "año_empleador0.tail()"
   ]
  },
  {
   "cell_type": "code",
   "execution_count": 18,
   "metadata": {},
   "outputs": [
    {
     "data": {
      "image/png": "[encoded data removed]",
      "text/plain": [
       "<Figure size 432x288 with 1 Axes>"
      ]
     },
     "metadata": {
      "needs_background": "light"
     },
     "output_type": "display_data"
    }
   ],
   "source": [
    "fig = plt.figure()\n",
    "ax = plt.axes()\n",
    "plt.plot( por_año.index,por_año.month,':b')\n",
    "\n",
    "plt.legend()\n",
    "\n",
    "plt.title('Número de solicitudes por año (2016-2020)')\n",
    "plt.xlabel(\"Numero de solicitudes\")\n",
    "plt.ylabel(\"Año\");"
   ]
  },
  {
   "cell_type": "code",
   "execution_count": 19,
   "metadata": {},
   "outputs": [
    {
     "data": {
      "text/plain": [
       "<BarContainer object of 5 artists>"
      ]
     },
     "execution_count": 19,
     "metadata": {},
     "output_type": "execute_result"
    },
    {
     "data": {
      "image/png": "[encoded data removed]",
      "text/plain": [
       "<Figure size 432x288 with 1 Axes>"
      ]
     },
     "metadata": {
      "needs_background": "light"
     },
     "output_type": "display_data"
    }
   ],
   "source": [
    "plt.bar(por_ciudad.index, por_ciudad.month)\n"
   ]
  },
  {
   "cell_type": "code",
   "execution_count": 4,
   "metadata": {},
   "outputs": [
    {
     "name": "stderr",
     "output_type": "stream",
     "text": [
      "/Users/juliangutierrez/opt/anaconda3/lib/python3.7/site-packages/ipykernel_launcher.py:6: SettingWithCopyWarning: \n",
      "A value is trying to be set on a copy of a slice from a DataFrame.\n",
      "Try using .loc[row_indexer,col_indexer] = value instead\n",
      "\n",
      "See the caveats in the documentation: https://pandas.pydata.org/pandas-docs/stable/user_guide/indexing.html#returning-a-view-versus-a-copy\n",
      "  \n",
      "/Users/juliangutierrez/opt/anaconda3/lib/python3.7/site-packages/ipykernel_launcher.py:7: SettingWithCopyWarning: \n",
      "A value is trying to be set on a copy of a slice from a DataFrame.\n",
      "Try using .loc[row_indexer,col_indexer] = value instead\n",
      "\n",
      "See the caveats in the documentation: https://pandas.pydata.org/pandas-docs/stable/user_guide/indexing.html#returning-a-view-versus-a-copy\n",
      "  import sys\n"
     ]
    }
   ],
   "source": [
    "# Organización de la base de datos\n",
    "bs_york = bs[ bs['year'] ==2020 ]\n",
    "bs_york = bs_york[ bs_york['location'] == \"New York\" ]\n",
    "bs_bla = bs_york.groupby('employer').agg({'base salary': ['std', 'count', 'mean']})\n",
    "df = bs_bla['base salary']\n",
    "df['std_2'] = df['std'].fillna(df['std'].mean())\n",
    "df['std'] = df['std'].fillna(10**-13)"
   ]
  },
  {
   "cell_type": "code",
   "execution_count": 5,
   "metadata": {},
   "outputs": [],
   "source": [
    "# Define likelihood function\n",
    "def normal_v(params):\n",
    "    m, t = params[0], params[1]\n",
    "    v = df['mean']\n",
    "    negLL = -np.sum(sci.stats.norm.logpdf(v, loc=m, scale=t))\n",
    "    return(negLL)"
   ]
  },
  {
   "cell_type": "code",
   "execution_count": 6,
   "metadata": {},
   "outputs": [
    {
     "name": "stdout",
     "output_type": "stream",
     "text": [
      "Optimization terminated successfully.\n",
      "         Current function value: 14539.020976\n",
      "         Iterations: 168\n",
      "         Function evaluations: 331\n"
     ]
    }
   ],
   "source": [
    "# Optimizamos la función de verosimilitud\n",
    "guess = np.array([0,1])\n",
    "estimadores = sci.optimize.fmin(normal_v, guess)"
   ]
  },
  {
   "cell_type": "code",
   "execution_count": 7,
   "metadata": {},
   "outputs": [
    {
     "data": {
      "text/plain": [
       "array([101962.20271479,  44668.20603005])"
      ]
     },
     "execution_count": 7,
     "metadata": {},
     "output_type": "execute_result"
    }
   ],
   "source": [
    "# Estos son miu y tau estiamdos de la distribución prior\n",
    "estimadores"
   ]
  },
  {
   "cell_type": "code",
   "execution_count": 8,
   "metadata": {},
   "outputs": [
    {
     "name": "stderr",
     "output_type": "stream",
     "text": [
      "/Users/juliangutierrez/opt/anaconda3/lib/python3.7/site-packages/ipykernel_launcher.py:2: SettingWithCopyWarning: \n",
      "A value is trying to be set on a copy of a slice from a DataFrame.\n",
      "Try using .loc[row_indexer,col_indexer] = value instead\n",
      "\n",
      "See the caveats in the documentation: https://pandas.pydata.org/pandas-docs/stable/user_guide/indexing.html#returning-a-view-versus-a-copy\n",
      "  \n"
     ]
    }
   ],
   "source": [
    "# Cálculo del estimador Bayesiano desviación estandar igual a 0\n",
    "df['eb estimator'] = ((df['count']/df['std']**2)/((df['count']/df['std']**2) + (1/estimadores[1]**2)))*df['mean'] + ((1/estimadores[1]**2)/((df['count']/df['std']**2) + (1/estimadores[1]**2)))*estimadores[0]"
   ]
  },
  {
   "cell_type": "code",
   "execution_count": 9,
   "metadata": {},
   "outputs": [
    {
     "name": "stderr",
     "output_type": "stream",
     "text": [
      "/Users/juliangutierrez/opt/anaconda3/lib/python3.7/site-packages/ipykernel_launcher.py:2: SettingWithCopyWarning: \n",
      "A value is trying to be set on a copy of a slice from a DataFrame.\n",
      "Try using .loc[row_indexer,col_indexer] = value instead\n",
      "\n",
      "See the caveats in the documentation: https://pandas.pydata.org/pandas-docs/stable/user_guide/indexing.html#returning-a-view-versus-a-copy\n",
      "  \n"
     ]
    }
   ],
   "source": [
    "# Cálculo del estimador Bayesiano desviación estandar igual al maximo de las desviaciones\n",
    "df['eb estimator 2'] = ((df['count']/df['std_2']**2)/((df['count']/df['std_2']**2) + (1/estimadores[1]**2)))*df['mean'] + ((1/estimadores[1]**2)/((df['count']/df['std_2']**2) + (1/estimadores[1]**2)))*estimadores[0]"
   ]
  },
  {
   "cell_type": "code",
   "execution_count": 10,
   "metadata": {
    "scrolled": true
   },
   "outputs": [
    {
     "name": "stderr",
     "output_type": "stream",
     "text": [
      "/Users/juliangutierrez/opt/anaconda3/lib/python3.7/site-packages/ipykernel_launcher.py:1: SettingWithCopyWarning: \n",
      "A value is trying to be set on a copy of a slice from a DataFrame.\n",
      "Try using .loc[row_indexer,col_indexer] = value instead\n",
      "\n",
      "See the caveats in the documentation: https://pandas.pydata.org/pandas-docs/stable/user_guide/indexing.html#returning-a-view-versus-a-copy\n",
      "  \"\"\"Entry point for launching an IPython kernel.\n"
     ]
    }
   ],
   "source": [
    "df['total mean'] = df['mean'].mean()\n",
    "df_sub = df.loc[np.random.choice(df.index, 15, replace=False)]"
   ]
  },
  {
   "cell_type": "code",
   "execution_count": 11,
   "metadata": {},
   "outputs": [],
   "source": [
    "df_sub_t_1 = df_sub[['mean', 'eb estimator', 'total mean']].T\n",
    "df_sub_t_2 = df_sub[['mean', 'eb estimator 2', 'total mean']].T"
   ]
  },
  {
   "cell_type": "code",
   "execution_count": 12,
   "metadata": {},
   "outputs": [
    {
     "data": {
      "image/png": "[encoded data removed]",
      "text/plain": [
       "<Figure size 432x288 with 1 Axes>"
      ]
     },
     "metadata": {
      "needs_background": "light"
     },
     "output_type": "display_data"
    }
   ],
   "source": [
    "# Gráfica se shrink\n",
    "x = np.array([0,1,2])\n",
    "my_xticks = np.array(['Media v', 'Estimador EB', 'Media total'])\n",
    "plt.xticks(x, my_xticks)\n",
    "\n",
    "for i in range(0,15):\n",
    "  plt.plot(x, np.array(df_sub_t_1.iloc[:,i]), marker='o', color='grey')\n",
    "plt.ylabel('Valores')\n",
    "plt.grid(True)"
   ]
  },
  {
   "cell_type": "code",
   "execution_count": 13,
   "metadata": {},
   "outputs": [
    {
     "data": {
      "image/png": "[encoded data removed]",
      "text/plain": [
       "<Figure size 432x288 with 1 Axes>"
      ]
     },
     "metadata": {
      "needs_background": "light"
     },
     "output_type": "display_data"
    }
   ],
   "source": [
    "# Gráfica se shrink\n",
    "x = np.array([0,1,2])\n",
    "my_xticks = np.array(['Media v', 'Estimador EB', 'Media total'])\n",
    "plt.xticks(x, my_xticks)\n",
    "\n",
    "for i in range(0,15):\n",
    "  plt.plot(x, np.array(df_sub_t_2.iloc[:,i]), marker='o', color='grey')\n",
    "plt.ylabel('Valores')\n",
    "plt.grid(True)"
   ]
  },
  {
   "cell_type": "code",
   "execution_count": 3,
   "metadata": {},
   "outputs": [
    {
     "data": {
      "text/html": [
       "<div>\n",
       "<style scoped>\n",
       "    .dataframe tbody tr th:only-of-type {\n",
       "        vertical-align: middle;\n",
       "    }\n",
       "\n",
       "    .dataframe tbody tr th {\n",
       "        vertical-align: top;\n",
       "    }\n",
       "\n",
       "    .dataframe thead th {\n",
       "        text-align: right;\n",
       "    }\n",
       "</style>\n",
       "<table border=\"1\" class=\"dataframe\">\n",
       "  <thead>\n",
       "    <tr style=\"text-align: right;\">\n",
       "      <th></th>\n",
       "      <th>Unnamed: 0</th>\n",
       "      <th>employer</th>\n",
       "      <th>job title</th>\n",
       "      <th>base salary</th>\n",
       "      <th>location</th>\n",
       "      <th>submit date</th>\n",
       "      <th>start date</th>\n",
       "      <th>case status</th>\n",
       "      <th>state</th>\n",
       "      <th>year</th>\n",
       "      <th>month</th>\n",
       "      <th>numero</th>\n",
       "    </tr>\n",
       "  </thead>\n",
       "  <tbody>\n",
       "    <tr>\n",
       "      <th>0</th>\n",
       "      <td>2</td>\n",
       "      <td>CSC COVANSYS CORPORATION</td>\n",
       "      <td>&amp;NBSP;PROFESSIONAL: PRODUCT TEST&amp;NBSP;</td>\n",
       "      <td>74818</td>\n",
       "      <td>Chicago</td>\n",
       "      <td>2017-07-07</td>\n",
       "      <td>2017-07-10</td>\n",
       "      <td>CERTIFIED</td>\n",
       "      <td>IL</td>\n",
       "      <td>2017</td>\n",
       "      <td>7</td>\n",
       "      <td>1</td>\n",
       "    </tr>\n",
       "    <tr>\n",
       "      <th>1</th>\n",
       "      <td>3</td>\n",
       "      <td>CSC COVANSYS CORPORATION</td>\n",
       "      <td>&amp;NBSP;PROFESSIONAL: QUALITY&amp;NBSP;</td>\n",
       "      <td>74818</td>\n",
       "      <td>Chicago</td>\n",
       "      <td>2017-07-07</td>\n",
       "      <td>2017-07-10</td>\n",
       "      <td>CERTIFIED</td>\n",
       "      <td>IL</td>\n",
       "      <td>2017</td>\n",
       "      <td>7</td>\n",
       "      <td>1</td>\n",
       "    </tr>\n",
       "    <tr>\n",
       "      <th>2</th>\n",
       "      <td>4</td>\n",
       "      <td>AMG TECHNOLOGY</td>\n",
       "      <td>'BUSINESS ANALYST</td>\n",
       "      <td>53820</td>\n",
       "      <td>Chicago</td>\n",
       "      <td>2020-06-10</td>\n",
       "      <td>2020-10-01</td>\n",
       "      <td>CERTIFIED</td>\n",
       "      <td>ILLINOIS</td>\n",
       "      <td>2020</td>\n",
       "      <td>6</td>\n",
       "      <td>1</td>\n",
       "    </tr>\n",
       "    <tr>\n",
       "      <th>3</th>\n",
       "      <td>5</td>\n",
       "      <td>ETEST IT INC</td>\n",
       "      <td>NET DEVELOPER</td>\n",
       "      <td>69000</td>\n",
       "      <td>Chicago</td>\n",
       "      <td>2015-09-01</td>\n",
       "      <td>2015-09-22</td>\n",
       "      <td>CERTIFIED</td>\n",
       "      <td>IL</td>\n",
       "      <td>2015</td>\n",
       "      <td>9</td>\n",
       "      <td>1</td>\n",
       "    </tr>\n",
       "    <tr>\n",
       "      <th>4</th>\n",
       "      <td>6</td>\n",
       "      <td>SKILLFUL TECHNOLOGIES INC</td>\n",
       "      <td>. NET DEVELOPER</td>\n",
       "      <td>95000</td>\n",
       "      <td>Chicago</td>\n",
       "      <td>2020-02-27</td>\n",
       "      <td>2020-03-25</td>\n",
       "      <td>CERTIFIED</td>\n",
       "      <td>ILLINOIS</td>\n",
       "      <td>2020</td>\n",
       "      <td>2</td>\n",
       "      <td>1</td>\n",
       "    </tr>\n",
       "  </tbody>\n",
       "</table>\n",
       "</div>"
      ],
      "text/plain": [
       "   Unnamed: 0                   employer  \\\n",
       "0           2   CSC COVANSYS CORPORATION   \n",
       "1           3   CSC COVANSYS CORPORATION   \n",
       "2           4             AMG TECHNOLOGY   \n",
       "3           5               ETEST IT INC   \n",
       "4           6  SKILLFUL TECHNOLOGIES INC   \n",
       "\n",
       "                                job title  base salary location submit date  \\\n",
       "0  &NBSP;PROFESSIONAL: PRODUCT TEST&NBSP;        74818  Chicago  2017-07-07   \n",
       "1       &NBSP;PROFESSIONAL: QUALITY&NBSP;        74818  Chicago  2017-07-07   \n",
       "2                       'BUSINESS ANALYST        53820  Chicago  2020-06-10   \n",
       "3                           NET DEVELOPER        69000  Chicago  2015-09-01   \n",
       "4                         . NET DEVELOPER        95000  Chicago  2020-02-27   \n",
       "\n",
       "  start date case status     state  year  month  numero  \n",
       "0 2017-07-10   CERTIFIED        IL  2017      7       1  \n",
       "1 2017-07-10   CERTIFIED        IL  2017      7       1  \n",
       "2 2020-10-01   CERTIFIED  ILLINOIS  2020      6       1  \n",
       "3 2015-09-22   CERTIFIED        IL  2015      9       1  \n",
       "4 2020-03-25   CERTIFIED  ILLINOIS  2020      2       1  "
      ]
     },
     "execution_count": 3,
     "metadata": {},
     "output_type": "execute_result"
    }
   ],
   "source": [
    "bs.head()"
   ]
  },
  {
   "cell_type": "code",
   "execution_count": 4,
   "metadata": {},
   "outputs": [
    {
     "data": {
      "text/plain": [
       "26492"
      ]
     },
     "execution_count": 4,
     "metadata": {},
     "output_type": "execute_result"
    }
   ],
   "source": [
    "bs['employer'].nunique()"
   ]
  },
  {
   "cell_type": "code",
   "execution_count": 6,
   "metadata": {},
   "outputs": [
    {
     "data": {
      "text/plain": [
       "array(['Chicago', 'Houston', 'San Francisco', 'Los Angeles', 'New York'],\n",
       "      dtype=object)"
      ]
     },
     "execution_count": 6,
     "metadata": {},
     "output_type": "execute_result"
    }
   ],
   "source": [
    "bs['location'].unique()"
   ]
  },
  {
   "cell_type": "code",
   "execution_count": 5,
   "metadata": {
    "scrolled": true
   },
   "outputs": [
    {
     "data": {
      "text/html": [
       "<div>\n",
       "<style scoped>\n",
       "    .dataframe tbody tr th:only-of-type {\n",
       "        vertical-align: middle;\n",
       "    }\n",
       "\n",
       "    .dataframe tbody tr th {\n",
       "        vertical-align: top;\n",
       "    }\n",
       "\n",
       "    .dataframe thead th {\n",
       "        text-align: right;\n",
       "    }\n",
       "</style>\n",
       "<table border=\"1\" class=\"dataframe\">\n",
       "  <thead>\n",
       "    <tr style=\"text-align: right;\">\n",
       "      <th></th>\n",
       "      <th>count</th>\n",
       "      <th>mean</th>\n",
       "      <th>std</th>\n",
       "      <th>min</th>\n",
       "      <th>25%</th>\n",
       "      <th>50%</th>\n",
       "      <th>75%</th>\n",
       "      <th>max</th>\n",
       "    </tr>\n",
       "    <tr>\n",
       "      <th>location</th>\n",
       "      <th></th>\n",
       "      <th></th>\n",
       "      <th></th>\n",
       "      <th></th>\n",
       "      <th></th>\n",
       "      <th></th>\n",
       "      <th></th>\n",
       "      <th></th>\n",
       "    </tr>\n",
       "  </thead>\n",
       "  <tbody>\n",
       "    <tr>\n",
       "      <th>Chicago</th>\n",
       "      <td>49998.0</td>\n",
       "      <td>88445.349974</td>\n",
       "      <td>65777.969852</td>\n",
       "      <td>450.0</td>\n",
       "      <td>65000.0</td>\n",
       "      <td>80000.0</td>\n",
       "      <td>100000.0</td>\n",
       "      <td>11000000.0</td>\n",
       "    </tr>\n",
       "    <tr>\n",
       "      <th>Houston</th>\n",
       "      <td>49993.0</td>\n",
       "      <td>85971.124077</td>\n",
       "      <td>40610.175568</td>\n",
       "      <td>600.0</td>\n",
       "      <td>63000.0</td>\n",
       "      <td>77273.0</td>\n",
       "      <td>98821.0</td>\n",
       "      <td>1308000.0</td>\n",
       "    </tr>\n",
       "    <tr>\n",
       "      <th>Los Angeles</th>\n",
       "      <td>28325.0</td>\n",
       "      <td>87300.893769</td>\n",
       "      <td>43778.936260</td>\n",
       "      <td>603.0</td>\n",
       "      <td>60000.0</td>\n",
       "      <td>77200.0</td>\n",
       "      <td>102206.0</td>\n",
       "      <td>1200000.0</td>\n",
       "    </tr>\n",
       "    <tr>\n",
       "      <th>New York</th>\n",
       "      <td>49991.0</td>\n",
       "      <td>102282.847413</td>\n",
       "      <td>45685.182501</td>\n",
       "      <td>310.0</td>\n",
       "      <td>71700.0</td>\n",
       "      <td>92500.0</td>\n",
       "      <td>125000.0</td>\n",
       "      <td>1600000.0</td>\n",
       "    </tr>\n",
       "    <tr>\n",
       "      <th>San Francisco</th>\n",
       "      <td>49996.0</td>\n",
       "      <td>111920.138111</td>\n",
       "      <td>45734.450467</td>\n",
       "      <td>1777.0</td>\n",
       "      <td>80000.0</td>\n",
       "      <td>105000.0</td>\n",
       "      <td>135000.0</td>\n",
       "      <td>1826000.0</td>\n",
       "    </tr>\n",
       "  </tbody>\n",
       "</table>\n",
       "</div>"
      ],
      "text/plain": [
       "                 count           mean           std     min      25%  \\\n",
       "location                                                               \n",
       "Chicago        49998.0   88445.349974  65777.969852   450.0  65000.0   \n",
       "Houston        49993.0   85971.124077  40610.175568   600.0  63000.0   \n",
       "Los Angeles    28325.0   87300.893769  43778.936260   603.0  60000.0   \n",
       "New York       49991.0  102282.847413  45685.182501   310.0  71700.0   \n",
       "San Francisco  49996.0  111920.138111  45734.450467  1777.0  80000.0   \n",
       "\n",
       "                    50%       75%         max  \n",
       "location                                       \n",
       "Chicago         80000.0  100000.0  11000000.0  \n",
       "Houston         77273.0   98821.0   1308000.0  \n",
       "Los Angeles     77200.0  102206.0   1200000.0  \n",
       "New York        92500.0  125000.0   1600000.0  \n",
       "San Francisco  105000.0  135000.0   1826000.0  "
      ]
     },
     "execution_count": 5,
     "metadata": {},
     "output_type": "execute_result"
    }
   ],
   "source": [
    "bs.groupby('location')['base salary'].describe()"
   ]
  },
  {
   "cell_type": "code",
   "execution_count": 6,
   "metadata": {
    "scrolled": true
   },
   "outputs": [
    {
     "data": {
      "text/plain": [
       "count    2.283030e+05\n",
       "mean     9.593226e+04\n",
       "std      5.069068e+04\n",
       "min      3.100000e+02\n",
       "25%      6.700000e+04\n",
       "50%      8.550000e+04\n",
       "75%      1.150000e+05\n",
       "max      1.100000e+07\n",
       "Name: base salary, dtype: float64"
      ]
     },
     "execution_count": 6,
     "metadata": {},
     "output_type": "execute_result"
    }
   ],
   "source": [
    "bs['base salary'].describe()"
   ]
  }
 ],
 "metadata": {
  "kernelspec": {
   "display_name": "Python 3",
   "language": "python",
   "name": "python3"
  },
  "language_info": {
   "codemirror_mode": {
    "name": "ipython",
    "version": 3
   },
   "file_extension": ".py",
   "mimetype": "text/x-python",
   "name": "python",
   "nbconvert_exporter": "python",
   "pygments_lexer": "ipython3",
   "version": "3.7.6"
  }
 },
 "nbformat": 4,
 "nbformat_minor": 2
}
